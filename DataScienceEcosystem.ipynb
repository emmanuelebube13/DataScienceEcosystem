{
 "cells": [
  {
   "cell_type": "markdown",
   "id": "1cbd9e72-e340-406a-84a7-011436f8ed5f",
   "metadata": {},
   "source": [
    "# Data Science Tools and Ecosystem"
   ]
  },
  {
   "cell_type": "markdown",
   "id": "646b7e1b-14c9-45ed-82e8-dfa1264e15ed",
   "metadata": {},
   "source": [
    "## In this notebook, Data Science Tools and Ecosystem are summarized."
   ]
  },
  {
   "cell_type": "markdown",
   "id": "efc3e097-6e17-43a8-ba6a-010d7b4616f8",
   "metadata": {},
   "source": [
    "**Some of the popular languages that Data Scientists use are:** \n",
    "1. Python.\n",
    "2. R.\n",
    "3. SQL.\n",
    "4. Julia."
   ]
  },
  {
   "cell_type": "markdown",
   "id": "27c6369b-9c23-4138-a46b-068a1433a79e",
   "metadata": {},
   "source": [
    "**Some of the commonly used libraries used by Data Scientists include:**\n",
    "1. Pandas\n",
    "2. Numpy\n",
    "3. Matplotlib\n",
    "4. ggplot\n",
    "5. Tensorflow\n"
   ]
  },
  {
   "cell_type": "markdown",
   "id": "e61cf3ab-bd89-4a5a-81bd-a56a2656728a",
   "metadata": {},
   "source": [
    "\n",
    "|Data Science Tools|\n",
    "|------------------| \n",
    "|*VS code*           | \n",
    "|*Jupiter Notebook*  |  \n",
    "|*Google Colab*      |"
   ]
  },
  {
   "cell_type": "markdown",
   "id": "621684c2-3fa4-4271-b61d-3d48e1461e5d",
   "metadata": {},
   "source": [
    "### *Below are a few examples of evaluating arithmetic expressions in Python* ###"
   ]
  },
  {
   "cell_type": "code",
   "execution_count": 3,
   "id": "c93d6b4e-2e04-4911-9942-b698bf99078b",
   "metadata": {},
   "outputs": [
    {
     "data": {
      "text/plain": [
       "17"
      ]
     },
     "execution_count": 3,
     "metadata": {},
     "output_type": "execute_result"
    }
   ],
   "source": [
    "\"\"\"This is a simple arithmetic\n",
    "expression to mutiply then add integers.\"\"\"\n",
    "\n",
    "(3*4)+5"
   ]
  },
  {
   "cell_type": "code",
   "execution_count": 7,
   "id": "d1de30c6-2f7b-45de-bbaa-9690710b7944",
   "metadata": {},
   "outputs": [
    {
     "name": "stdout",
     "output_type": "stream",
     "text": [
      "3.33\n"
     ]
    }
   ],
   "source": [
    "\"This will convert 200 minutes to hours by dividing by 60\"\n",
    "\n",
    "minutes = 200\n",
    "hours = round(minutes/60, ndigits=2)\n",
    "print(hours)"
   ]
  },
  {
   "cell_type": "markdown",
   "id": "0c30295d-9f87-404e-9aab-d4f516b820e7",
   "metadata": {},
   "source": [
    "**Objectives:**\n",
    "\n",
    "- List popular languages for Data Science. \n",
    "- popular libraries for Data Science. \n",
    "- Open Source Development Environment for Data Science. "
   ]
  },
  {
   "cell_type": "markdown",
   "id": "cd4b2f33-644a-4791-9ce9-2b88f6136e00",
   "metadata": {},
   "source": [
    "## Author\n",
    "Mbachu Emmanuel"
   ]
  },
  {
   "cell_type": "code",
   "execution_count": null,
   "id": "bfdb13cd-daf1-4478-8429-4ad176eeddfe",
   "metadata": {},
   "outputs": [],
   "source": []
  }
 ],
 "metadata": {
  "kernelspec": {
   "display_name": "Python 3 (ipykernel)",
   "language": "python",
   "name": "python3"
  },
  "language_info": {
   "codemirror_mode": {
    "name": "ipython",
    "version": 3
   },
   "file_extension": ".py",
   "mimetype": "text/x-python",
   "name": "python",
   "nbconvert_exporter": "python",
   "pygments_lexer": "ipython3",
   "version": "3.12.8"
  }
 },
 "nbformat": 4,
 "nbformat_minor": 5
}
